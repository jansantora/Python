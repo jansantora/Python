{
 "cells": [
  {
   "cell_type": "code",
   "execution_count": 1,
   "metadata": {},
   "outputs": [],
   "source": [
    "#importing necessary libreries\n",
    "from sympy import *\n",
    "#formating outputs\n",
    "init_printing()"
   ]
  },
  {
   "cell_type": "code",
   "execution_count": 2,
   "metadata": {},
   "outputs": [],
   "source": [
    "#assigning variables to the labels/symbols\n",
    "x1 , x2, y1, y2, z1, z2, z3, P, P2 = symbols('x_1 x_2 y_1 y_2 z_1 z_2 z_3 P P2')"
   ]
  },
  {
   "cell_type": "markdown",
   "metadata": {},
   "source": [
    "# Power outputs "
   ]
  },
  {
   "cell_type": "code",
   "execution_count": 4,
   "metadata": {},
   "outputs": [],
   "source": [
    "#writing up equations for\n",
    "eqn1 = Eq(x1 +y1 +z1, 4.46667)\n",
    "eqn2 = Eq(x2+y1+z1, 4.92)\n",
    "eqn3 = Eq(x1+y2+z3, 4.31833)\n",
    "eqn4 = Eq(x2+y2+z2, 4.39286)\n",
    "eqn5 = Eq(x2+y1+z2, 4.858335)\n",
    "#eqn6 - is what would power be of engine 1 with no shims and Cop Pocket piston\n",
    "eqn6 = Eq(x1+y1+z2, P)\n",
    "#eqn7 - is what would power be of engine 2 with 2 shims and Pocket Petal Piston\n",
    "eqn7 = Eq(x2+y2+z3, P2)"
   ]
  },
  {
   "cell_type": "markdown",
   "metadata": {},
   "source": [
    "## Result"
   ]
  },
  {
   "cell_type": "code",
   "execution_count": 6,
   "metadata": {},
   "outputs": [
    {
     "data": {
      "image/png": "[encoded data removed]",
      "text/latex": [
       "$$\\left \\{ P : 4.405005, \\quad P_{2} : 4.77166, \\quad x_{1} : - y_{2} - z_{3} + 4.31833, \\quad x_{2} : - y_{2} - z_{3} + 4.77166, \\quad y_{1} : y_{2} + 0.465475, \\quad z_{1} : z_{3} - 0.317135, \\quad z_{2} : z_{3} - 0.3788\\right \\}$$"
      ],
      "text/plain": [
       "{P: 4.405005, P₂: 4.77166, x₁: -y₂ - z₃ + 4.31833, x₂: -y₂ - z₃ + 4.77166, y₁:\n",
       " y₂ + 0.465475, z₁: z₃ - 0.317135, z₂: z₃ - 0.3788}"
      ]
     },
     "execution_count": 6,
     "metadata": {},
     "output_type": "execute_result"
    }
   ],
   "source": [
    "#solving\n",
    "solve((eqn1, eqn2, eqn3, eqn4,eqn5,eqn6,eqn7), x1, x2, y1, y2, z1, z2 ,z3 ,P, P2)"
   ]
  },
  {
   "cell_type": "markdown",
   "metadata": {},
   "source": [
    "# BSFC outputs"
   ]
  },
  {
   "cell_type": "code",
   "execution_count": 7,
   "metadata": {},
   "outputs": [],
   "source": [
    "x1 , x2, y1, y2, z1, z2, z3, BSFC, BSFC2 = symbols('x_1 x_2 y_1 y_2 z_1 z_2 z_3 BSFC BSFC2')"
   ]
  },
  {
   "cell_type": "code",
   "execution_count": 8,
   "metadata": {},
   "outputs": [],
   "source": [
    "eqn1 = Eq(x1 +y1 +z1, 40.325)\n",
    "eqn2 = Eq(x2+y1+z1, 40.655)\n",
    "eqn3 = Eq(x1+y2+z3, 43.325)\n",
    "eqn4 = Eq(x2+y2+z2, 42.6624)\n",
    "eqn5 = Eq(x2+y1+z2, 40.4217)\n",
    "eqn6 = Eq(x1+y1+z2, BSFC)\n",
    "eqn7 = Eq(x2+y2+z3, BSFC2)"
   ]
  },
  {
   "cell_type": "markdown",
   "metadata": {},
   "source": [
    "## Result"
   ]
  },
  {
   "cell_type": "code",
   "execution_count": 9,
   "metadata": {},
   "outputs": [
    {
     "data": {
      "image/png": "[encoded data removed]",
      "text/latex": [
       "$$\\left \\{ BSFC : 40.0917, \\quad BSFC_{2} : 43.655, \\quad x_{1} : - y_{2} - z_{3} + 43.325, \\quad x_{2} : - y_{2} - z_{3} + 43.655, \\quad y_{1} : y_{2} - 2.2407, \\quad z_{1} : z_{3} - 0.7593, \\quad z_{2} : z_{3} - 0.9926\\right \\}$$"
      ],
      "text/plain": [
       "{BSFC: 40.0917, BSFC₂: 43.655, x₁: -y₂ - z₃ + 43.325, x₂: -y₂ - z₃ + 43.655, y\n",
       "₁: y₂ - 2.2407, z₁: z₃ - 0.7593, z₂: z₃ - 0.9926}"
      ]
     },
     "execution_count": 9,
     "metadata": {},
     "output_type": "execute_result"
    }
   ],
   "source": [
    "solve((eqn1, eqn2, eqn3, eqn4,eqn5,eqn6,eqn7), x1, x2, y1, y2, z1, z2 ,z3 ,BSFC, BSFC2)"
   ]
  }
 ],
 "metadata": {
  "kernelspec": {
   "display_name": "Python 3",
   "language": "python",
   "name": "python3"
  },
  "language_info": {
   "codemirror_mode": {
    "name": "ipython",
    "version": 3
   },
   "file_extension": ".py",
   "mimetype": "text/x-python",
   "name": "python",
   "nbconvert_exporter": "python",
   "pygments_lexer": "ipython3",
   "version": "3.6.5"
  }
 },
 "nbformat": 4,
 "nbformat_minor": 2
}
